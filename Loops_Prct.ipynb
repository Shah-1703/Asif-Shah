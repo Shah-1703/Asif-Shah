{
  "nbformat": 4,
  "nbformat_minor": 0,
  "metadata": {
    "colab": {
      "provenance": [],
      "authorship_tag": "ABX9TyO4auueWBSmmnDgnqpMAlHn",
      "include_colab_link": true
    },
    "kernelspec": {
      "name": "python3",
      "display_name": "Python 3"
    },
    "language_info": {
      "name": "python"
    }
  },
  "cells": [
    {
      "cell_type": "markdown",
      "metadata": {
        "id": "view-in-github",
        "colab_type": "text"
      },
      "source": [
        "<a href=\"https://colab.research.google.com/github/Shah-1703/Asif-Shah/blob/main/Loops_Prct.ipynb\" target=\"_parent\"><img src=\"https://colab.research.google.com/assets/colab-badge.svg\" alt=\"Open In Colab\"/></a>"
      ]
    },
    {
      "cell_type": "markdown",
      "source": [
        "#Loops"
      ],
      "metadata": {
        "id": "IchK-hEl5SgO"
      }
    },
    {
      "cell_type": "markdown",
      "source": [
        "## 1) For loop 2) While loop"
      ],
      "metadata": {
        "id": "lSWuDVDK5p8F"
      }
    },
    {
      "cell_type": "code",
      "execution_count": 2,
      "metadata": {
        "colab": {
          "base_uri": "https://localhost:8080/"
        },
        "id": "5API5ru-5LJo",
        "outputId": "33deab22-1232-4f97-cd97-189f119d99a8"
      },
      "outputs": [
        {
          "output_type": "stream",
          "name": "stdout",
          "text": [
            "range(1, 11)\n"
          ]
        }
      ],
      "source": [
        "number_range = range(1,11)\n",
        "print(number_range)"
      ]
    },
    {
      "cell_type": "code",
      "source": [
        "for i in range(0,10):\n",
        "  print(i+10)\n",
        "  print(i-20)\n",
        "print(\"Loop completed: \",i,\"\")"
      ],
      "metadata": {
        "colab": {
          "base_uri": "https://localhost:8080/"
        },
        "id": "FzSd5G6S5XW9",
        "outputId": "537c25e3-8ee6-4266-efe5-7851c455c390"
      },
      "execution_count": 8,
      "outputs": [
        {
          "output_type": "stream",
          "name": "stdout",
          "text": [
            "10\n",
            "-20\n",
            "11\n",
            "-19\n",
            "12\n",
            "-18\n",
            "13\n",
            "-17\n",
            "14\n",
            "-16\n",
            "15\n",
            "-15\n",
            "16\n",
            "-14\n",
            "17\n",
            "-13\n",
            "18\n",
            "-12\n",
            "19\n",
            "-11\n",
            "Loop completed:  9 \n"
          ]
        }
      ]
    },
    {
      "cell_type": "code",
      "source": [
        "stationery = [\"Ball Pen\", \"Paper Pin\", \"pencil\", \"Eraser\"]\n",
        "for stationery_item in stationery:\n",
        "  print(stationery_item.upper())"
      ],
      "metadata": {
        "colab": {
          "base_uri": "https://localhost:8080/"
        },
        "id": "eC_0L3_o8VYR",
        "outputId": "8da2efea-4c2f-4349-8131-d4a9404996a3"
      },
      "execution_count": 9,
      "outputs": [
        {
          "output_type": "stream",
          "name": "stdout",
          "text": [
            "BALL PEN\n",
            "PAPER PIN\n",
            "PENCIL\n",
            "ERASER\n"
          ]
        }
      ]
    },
    {
      "cell_type": "code",
      "source": [
        "# replace the old stationery value in the list with the new value in upper case\n",
        "stationery = [\"Ball Pen\", \"Paper Pin\", \"pencil\", \"Eraser\"]\n",
        "index = 0\n",
        "for stationery_item in stationery:\n",
        "  stationery[index] = stationery_item.lower()\n",
        "  index += 1\n",
        "\n",
        "print(stationery)\n"
      ],
      "metadata": {
        "colab": {
          "base_uri": "https://localhost:8080/"
        },
        "id": "XHpRgFG48oQ7",
        "outputId": "781d1a45-295b-4e59-c8c1-e2d0d3b9a022"
      },
      "execution_count": 13,
      "outputs": [
        {
          "output_type": "stream",
          "name": "stdout",
          "text": [
            "['ball pen', 'paper pin', 'pencil', 'eraser']\n"
          ]
        }
      ]
    },
    {
      "cell_type": "code",
      "source": [
        "stationery = [\"Ball Pen\", \"Paper Pin\", \"pencil\", \"Eraser\"]\n",
        "for stationery_item in stationery:\n",
        "  stationery.remove(stationery_item)\n",
        "  stationery.append(stationery_item.upper())\n",
        "print(stationery)"
      ],
      "metadata": {
        "colab": {
          "base_uri": "https://localhost:8080/"
        },
        "id": "SFGglXgJ8V96",
        "outputId": "9f2106db-1fdc-4e33-d5e1-c16070b71480"
      },
      "execution_count": 22,
      "outputs": [
        {
          "output_type": "stream",
          "name": "stdout",
          "text": [
            "['Paper Pin', 'Eraser', 'PENCIL', 'BALL PEN']\n"
          ]
        }
      ]
    },
    {
      "cell_type": "code",
      "source": [
        "# write a program which will take a integer input and print the multiplication table\n",
        "No = int(input(\"Enter a number \"))\n",
        "range_loop = int(input(\"Enter the number required till \"))\n",
        "print(\"Multiplication of table\",No,\"is\")\n",
        "print(\"########################\")\n",
        "for i in range(1,range_loop+1):\n",
        "  print(f\"{No} x {i} =\", i*No)\n"
      ],
      "metadata": {
        "colab": {
          "base_uri": "https://localhost:8080/"
        },
        "id": "ExGJj0YU8WAk",
        "outputId": "2a9881b6-4586-4af6-a3e5-87180d07428b"
      },
      "execution_count": 29,
      "outputs": [
        {
          "output_type": "stream",
          "name": "stdout",
          "text": [
            "Enter a number 2\n",
            "Enter the number required till 3\n",
            "Multiplication of table 2 is\n",
            "########################\n",
            "2 x 1 = 2\n",
            "2 x 2 = 4\n",
            "2 x 3 = 6\n"
          ]
        }
      ]
    },
    {
      "cell_type": "code",
      "source": [
        "name = \"Farzana\"\n",
        "id(name)"
      ],
      "metadata": {
        "colab": {
          "base_uri": "https://localhost:8080/"
        },
        "id": "oa5FtiBS8WC7",
        "outputId": "108de855-0c0b-4eb7-b51b-56df9284bc29"
      },
      "execution_count": 1,
      "outputs": [
        {
          "output_type": "execute_result",
          "data": {
            "text/plain": [
              "133387044780208"
            ]
          },
          "metadata": {},
          "execution_count": 1
        }
      ]
    },
    {
      "cell_type": "code",
      "source": [
        "name1 = \"Asif\"\n",
        "id(name1)"
      ],
      "metadata": {
        "colab": {
          "base_uri": "https://localhost:8080/"
        },
        "id": "9ZYorzfXHeBe",
        "outputId": "977b5b48-b5f4-4256-9a3f-e98a84c318a1"
      },
      "execution_count": 2,
      "outputs": [
        {
          "output_type": "execute_result",
          "data": {
            "text/plain": [
              "133387051522480"
            ]
          },
          "metadata": {},
          "execution_count": 2
        }
      ]
    },
    {
      "cell_type": "code",
      "source": [
        "name2 = name1\n",
        "id(name2)"
      ],
      "metadata": {
        "colab": {
          "base_uri": "https://localhost:8080/"
        },
        "id": "2OrfGtn5HmXA",
        "outputId": "4841588d-62a2-45e5-b5d9-b87c20162bb7"
      },
      "execution_count": 5,
      "outputs": [
        {
          "output_type": "execute_result",
          "data": {
            "text/plain": [
              "133387051522480"
            ]
          },
          "metadata": {},
          "execution_count": 5
        }
      ]
    },
    {
      "cell_type": "code",
      "source": [
        "original_list = [1,2,3,4,5,6,7,8,9]\n",
        "a = original_list\n",
        "b = copy.deepcopy(original_list)\n",
        "print(id(original_list) == id(a))\n",
        "print(id(original_list) == id(b))\n"
      ],
      "metadata": {
        "colab": {
          "base_uri": "https://localhost:8080/"
        },
        "id": "KqUNyuz-H58i",
        "outputId": "4033dab7-813f-4bd8-dde7-1ad2b882fd72"
      },
      "execution_count": 20,
      "outputs": [
        {
          "output_type": "stream",
          "name": "stdout",
          "text": [
            "True\n",
            "False\n"
          ]
        }
      ]
    },
    {
      "cell_type": "code",
      "source": [
        "is_sunny = True\n",
        "is_warm = False\n",
        "print(is_sunny and is_warm)\n",
        "print(is_sunny or is_warm)\n"
      ],
      "metadata": {
        "colab": {
          "base_uri": "https://localhost:8080/"
        },
        "id": "zEoky6lUNJFW",
        "outputId": "425e58aa-b71b-4321-f8ab-dc597078c8a9"
      },
      "execution_count": 2,
      "outputs": [
        {
          "output_type": "stream",
          "name": "stdout",
          "text": [
            "False\n",
            "True\n"
          ]
        }
      ]
    },
    {
      "cell_type": "code",
      "source": [],
      "metadata": {
        "id": "4pTy9N2NaV82"
      },
      "execution_count": null,
      "outputs": []
    }
  ]
}